{
 "cells": [
  {
   "cell_type": "code",
   "execution_count": 83,
   "id": "transsexual-niagara",
   "metadata": {},
   "outputs": [],
   "source": [
    "import numpy as np"
   ]
  },
  {
   "cell_type": "code",
   "execution_count": 84,
   "id": "dying-processing",
   "metadata": {},
   "outputs": [],
   "source": [
    "# Test out with random dataset \n",
    "n = 50\n",
    "\n",
    "data = np.random.randint(0,2,n)\n",
    "\n",
    "def query(indices):\n",
    "    result = 0\n",
    "    for i in indices:\n",
    "        result += data[i] \n",
    "    return result "
   ]
  },
  {
   "cell_type": "code",
   "execution_count": 85,
   "id": "detailed-commonwealth",
   "metadata": {},
   "outputs": [],
   "source": [
    "import math\n",
    "from scipy.optimize import linprog\n",
    "\n",
    "# Set up the constants for D-N attack\n",
    "epsilon = 0.5\n",
    "t = n * (math.log2(n) ** 2)\n",
    "\n",
    "def dinur_nissim():\n",
    "    def generate_query():\n",
    "        # Generate a random subset of [n] by generating a list of bits and convert to indices\n",
    "        q_j = np.random.randint(0,2,n) \n",
    "        indices = []\n",
    "        for i in range(n):\n",
    "            if q_j[i] == 1:\n",
    "                indices.append(i)\n",
    "        return (q_j, indices) \n",
    "    # Make t queries to the mechanism. A_ub and b_ub are respectively the coefficient matrix \n",
    "    #   and upper bound for the linear program \n",
    "    A_ub = []\n",
    "    b_ub = []\n",
    "    for _ in range(int(t)):\n",
    "        q, indices = generate_query()\n",
    "        answer = query(indices)\n",
    "        A_ub.append(q)\n",
    "        b_ub.append(answer + epsilon)\n",
    "        A_ub.append(-1 * q)\n",
    "        b_ub.append(epsilon - answer)\n",
    "    # Rounding Phase: round the results of the LP into integers\n",
    "    program_result = linprog(np.zeros(n), A_ub, b_ub, bounds=(0,1))[\"x\"]\n",
    "    round_vector = np.vectorize(round, otypes=[int])\n",
    "    return round_vector(program_result)\n",
    "    \n",
    "\n",
    "    \n",
    "    \n",
    "        \n",
    "    \n",
    "    \n",
    "    \n",
    "    "
   ]
  },
  {
   "cell_type": "code",
   "execution_count": 86,
   "id": "permanent-tennessee",
   "metadata": {},
   "outputs": [],
   "source": [
    "result = dinur_nissim()"
   ]
  },
  {
   "cell_type": "code",
   "execution_count": 87,
   "id": "incorporate-terminology",
   "metadata": {},
   "outputs": [
    {
     "data": {
      "text/plain": [
       "(array([0, 1, 1, 1, 0, 0, 1, 0, 1, 1, 1, 1, 0, 1, 1, 0, 0, 1, 0, 0, 1, 0,\n",
       "        1, 1, 0, 0, 0, 0, 1, 0, 1, 0, 1, 0, 1, 1, 1, 1, 0, 0, 1, 1, 1, 1,\n",
       "        0, 0, 0, 0, 1, 0]),\n",
       " array([0, 1, 1, 1, 0, 0, 1, 0, 1, 1, 1, 1, 0, 1, 1, 0, 0, 1, 0, 0, 1, 0,\n",
       "        1, 1, 0, 0, 0, 0, 1, 0, 1, 0, 1, 0, 1, 1, 1, 1, 0, 0, 1, 1, 1, 1,\n",
       "        0, 0, 0, 0, 1, 0]))"
      ]
     },
     "execution_count": 87,
     "metadata": {},
     "output_type": "execute_result"
    }
   ],
   "source": [
    "data, result"
   ]
  },
  {
   "cell_type": "code",
   "execution_count": 76,
   "id": "decimal-method",
   "metadata": {},
   "outputs": [
    {
     "data": {
      "text/plain": [
       "1"
      ]
     },
     "execution_count": 76,
     "metadata": {},
     "output_type": "execute_result"
    }
   ],
   "source": []
  },
  {
   "cell_type": "code",
   "execution_count": null,
   "id": "clean-second",
   "metadata": {},
   "outputs": [],
   "source": []
  }
 ],
 "metadata": {
  "kernelspec": {
   "display_name": "Python 3",
   "language": "python",
   "name": "python3"
  },
  "language_info": {
   "codemirror_mode": {
    "name": "ipython",
    "version": 3
   },
   "file_extension": ".py",
   "mimetype": "text/x-python",
   "name": "python",
   "nbconvert_exporter": "python",
   "pygments_lexer": "ipython3",
   "version": "3.9.7"
  }
 },
 "nbformat": 4,
 "nbformat_minor": 5
}
