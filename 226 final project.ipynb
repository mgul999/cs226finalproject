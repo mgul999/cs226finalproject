{
 "cells": [
  {
   "cell_type": "code",
   "execution_count": 1,
   "metadata": {},
   "outputs": [],
   "source": [
    "import numpy as np\n",
    "import math\n",
    "from scipy.optimize import linprog\n",
    "from abc import ABC"
   ]
  },
  {
   "cell_type": "code",
   "execution_count": 2,
   "metadata": {},
   "outputs": [],
   "source": [
    "# Test out with random dataset \n",
    "\n",
    "def generate_bit_data(n = 1000): \n",
    "    return np.random.randint(0,2,n)\n",
    "\n",
    "\n",
    "\n",
    "def query(indices):\n",
    "    result = 0\n",
    "    for i in indices:\n",
    "        result += data[i] \n",
    "    return result \n",
    "\n",
    "\n",
    "class Mechanism(ABC): \n",
    "    pass\n",
    "\n",
    "class LaplaceMechanism(Mechanism)\n",
    "    def __init__(self, dataset, mean = 0.0, scale = 1.0):\n",
    "        self.mean = mean \n",
    "        self.scale = scale\n",
    "        self.dataset = dataset\n",
    "    \n",
    "    def query(self, indices): \n",
    "        result = 0\n",
    "        for i in indices:\n",
    "            result += data[i]\n",
    "        noise = np.random.laplace(loc=mean, scale=1.0, size=None)\n",
    "        return result + noise\n",
    "    "
   ]
  },
  {
   "cell_type": "code",
   "execution_count": 85,
   "metadata": {},
   "outputs": [],
   "source": [
    "\n",
    "data = generate_bit_data()\n",
    "\n",
    "\n",
    "\n",
    "# Set up the constants for D-N attack\n",
    "epsilon = 0.5\n",
    "t = n * (math.log2(n) ** 2)\n",
    "\n",
    "def dinur_nissim():\n",
    "    def generate_query():\n",
    "        # Generate a random subset of [n] by generating a list of bits and convert to indices\n",
    "        q_j = np.random.randint(0,2,n) \n",
    "        indices = []\n",
    "        for i in range(n):\n",
    "            if q_j[i] == 1:\n",
    "                indices.append(i)\n",
    "        return (q_j, indices) \n",
    "    # Make t queries to the mechanism. A_ub and b_ub are respectively the coefficient matrix \n",
    "    #   and upper bound for the linear program \n",
    "    A_ub = []\n",
    "    b_ub = []\n",
    "    for _ in range(int(t)):\n",
    "        q, indices = generate_query()\n",
    "        answer = query(indices)\n",
    "        A_ub.append(q)\n",
    "        b_ub.append(answer + epsilon)\n",
    "        A_ub.append(-1 * q)\n",
    "        b_ub.append(epsilon - answer)\n",
    "    # Rounding Phase: round the results of the LP into integers\n",
    "    program_result = linprog(np.zeros(n), A_ub, b_ub, bounds=(0,1))[\"x\"]\n",
    "    round_vector = np.vectorize(round, otypes=[int])\n",
    "    return round_vector(program_result)\n",
    "    \n",
    "\n",
    "    \n",
    "    \n",
    "        \n",
    "    \n",
    "    \n",
    "    \n",
    "    "
   ]
  },
  {
   "cell_type": "code",
   "execution_count": 86,
   "metadata": {},
   "outputs": [],
   "source": [
    "result = dinur_nissim()"
   ]
  },
  {
   "cell_type": "code",
   "execution_count": 87,
   "metadata": {},
   "outputs": [
    {
     "data": {
      "text/plain": [
       "(array([0, 1, 1, 1, 0, 0, 1, 0, 1, 1, 1, 1, 0, 1, 1, 0, 0, 1, 0, 0, 1, 0,\n",
       "        1, 1, 0, 0, 0, 0, 1, 0, 1, 0, 1, 0, 1, 1, 1, 1, 0, 0, 1, 1, 1, 1,\n",
       "        0, 0, 0, 0, 1, 0]),\n",
       " array([0, 1, 1, 1, 0, 0, 1, 0, 1, 1, 1, 1, 0, 1, 1, 0, 0, 1, 0, 0, 1, 0,\n",
       "        1, 1, 0, 0, 0, 0, 1, 0, 1, 0, 1, 0, 1, 1, 1, 1, 0, 0, 1, 1, 1, 1,\n",
       "        0, 0, 0, 0, 1, 0]))"
      ]
     },
     "execution_count": 87,
     "metadata": {},
     "output_type": "execute_result"
    }
   ],
   "source": [
    "data, result"
   ]
  },
  {
   "cell_type": "code",
   "execution_count": 76,
   "metadata": {},
   "outputs": [
    {
     "data": {
      "text/plain": [
       "1"
      ]
     },
     "execution_count": 76,
     "metadata": {},
     "output_type": "execute_result"
    }
   ],
   "source": []
  },
  {
   "cell_type": "code",
   "execution_count": null,
   "metadata": {},
   "outputs": [],
   "source": []
  }
 ],
 "metadata": {
  "kernelspec": {
   "display_name": "cs187",
   "language": "python",
   "name": "cs187"
  },
  "language_info": {
   "codemirror_mode": {
    "name": "ipython",
    "version": 3
   },
   "file_extension": ".py",
   "mimetype": "text/x-python",
   "name": "python",
   "nbconvert_exporter": "python",
   "pygments_lexer": "ipython3",
   "version": "3.8.3"
  }
 },
 "nbformat": 4,
 "nbformat_minor": 5
}
