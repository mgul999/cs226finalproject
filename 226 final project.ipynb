{
 "cells": [
  {
   "cell_type": "code",
   "execution_count": 2,
   "id": "agreed-blogger",
   "metadata": {},
   "outputs": [],
   "source": [
    "import numpy as np\n",
    "import math\n",
    "from scipy.optimize import linprog\n",
    "from abc import ABC\n"
   ]
  },
  {
   "cell_type": "code",
   "execution_count": 3,
   "id": "republican-effectiveness",
   "metadata": {},
   "outputs": [],
   "source": [
    "# Test out with random dataset \n",
    "\n",
    "def generate_bit_data(n = 1000): \n",
    "    return np.random.randint(0,2,n)\n",
    "\n",
    "\n",
    "class Mechanism(ABC): \n",
    "    pass\n",
    "\n",
    "\n",
    "class LaplaceMechanism(Mechanism):\n",
    "    def __init__(self, dataset, mean = 0.0, scale = 1.0):\n",
    "        self.mean = mean \n",
    "        self.scale = scale\n",
    "        self.dataset = dataset\n",
    "        self.length = len(dataset)\n",
    "    \n",
    "    def query(self, indices): \n",
    "        result = np.sum(self.dataset[indices])\n",
    "        noise = np.random.laplace(loc=self.mean, scale=self.scale, size=None)\n",
    "        return result + noise\n",
    "    \n",
    "    def get_len(self):\n",
    "        return self.length\n",
    "    \n",
    "    def get_raw_data(self):\n",
    "        return self.dataset\n",
    "    \n",
    "    \n",
    "def dinur_nissim(mech, epsilon = 0.5, gen_t = lambda n : n * (math.log2(n) ** 2)):\n",
    "    n = mech.get_len()\n",
    "    t = gen_t(n)\n",
    "    \n",
    "    def generate_query():\n",
    "        # Generate a random subset of [n] by generating a list of bits and convert to indices\n",
    "        q_j = np.random.randint(0,2,n)\n",
    "        indices2 = q_j.nonzero()\n",
    "        return (q_j, indices2) \n",
    "    \n",
    "    # Make t queries to the mechanism. A_ub and b_ub are respectively the coefficient matrix \n",
    "    #   and upper bound for the linear program \n",
    "    A_ub = []\n",
    "    b_ub = []\n",
    "    for _ in range(int(t)):\n",
    "        q, indices = generate_query()\n",
    "        answer = mech.query(indices)\n",
    "        A_ub.append(q)\n",
    "        b_ub.append(answer + epsilon)\n",
    "        A_ub.append(-1 * q)\n",
    "        b_ub.append(epsilon - answer)\n",
    "    print(\"here\")\n",
    "    # Rounding Phase: round the results of the LP into integers\n",
    "    program_result = linprog(np.zeros(n), A_ub, b_ub, bounds=(0,1))[\"x\"]\n",
    "    round_vector = np.vectorize(round, otypes=[int])\n",
    "    return round_vector(program_result)\n"
   ]
  },
  {
   "cell_type": "code",
   "execution_count": null,
   "id": "insured-seattle",
   "metadata": {},
   "outputs": [],
   "source": []
  },
  {
   "cell_type": "code",
   "execution_count": 5,
   "id": "distinct-stable",
   "metadata": {},
   "outputs": [
    {
     "name": "stdout",
     "output_type": "stream",
     "text": [
      "here\n",
      "Data: [0 0 0 1 0 0 1 0 0 1]\n",
      "\n",
      "Result: [0 0 0 1 0 0 1 0 0 1]\n",
      "\n",
      "Errror for scale=0.0: 0\n",
      "here\n",
      "Data: [0 0 0 1 0 0 1 0 0 1]\n",
      "\n",
      "Result: [0 0 0 1 0 0 1 0 0 1]\n",
      "\n",
      "Errror for scale=0.01: 0\n",
      "here\n",
      "Data: [0 0 0 1 0 0 1 0 0 1]\n",
      "\n",
      "Result: [0 0 0 1 0 0 1 0 0 1]\n",
      "\n",
      "Errror for scale=0.02: 0\n",
      "here\n",
      "Data: [0 0 0 1 0 0 1 0 0 1]\n",
      "\n",
      "Result: [0 0 0 1 0 0 1 0 0 1]\n",
      "\n",
      "Errror for scale=0.03: 0\n",
      "here\n",
      "Data: [0 0 0 1 0 0 1 0 0 1]\n",
      "\n",
      "Result: [0 0 0 1 0 0 1 0 0 1]\n",
      "\n",
      "Errror for scale=0.04: 0\n",
      "here\n",
      "Data: [0 0 0 1 0 0 1 0 0 1]\n",
      "\n",
      "Result: [0 0 0 1 0 0 1 1 0 1]\n",
      "\n",
      "Errror for scale=0.05: 1\n",
      "here\n",
      "Data: [0 0 0 1 0 0 1 0 0 1]\n",
      "\n",
      "Result: [1 1 1 1 1 1 1 1 0 1]\n",
      "\n",
      "Errror for scale=0.06: 6\n",
      "here\n",
      "Data: [0 0 0 1 0 0 1 0 0 1]\n",
      "\n",
      "Result: [0 0 0 1 0 1 1 1 0 1]\n",
      "\n",
      "Errror for scale=0.07: 2\n",
      "here\n",
      "Data: [0 0 0 1 0 0 1 0 0 1]\n",
      "\n",
      "Result: [0 1 0 1 0 0 1 0 0 1]\n",
      "\n",
      "Errror for scale=0.08: 1\n",
      "here\n",
      "Data: [0 0 0 1 0 0 1 0 0 1]\n",
      "\n",
      "Result: [0 0 0 1 0 1 1 0 0 1]\n",
      "\n",
      "Errror for scale=0.09: 1\n"
     ]
    }
   ],
   "source": [
    "data = generate_bit_data(n=10)\n",
    "\n",
    "for s in range(10):\n",
    "    mech = LaplaceMechanism(data, mean = 0, scale = (0.2 + s/100.0))\n",
    "    result = dinur_nissim(mech)\n",
    "    print(f\"Data: {data}\\n\")\n",
    "    print(f\"Result: {result}\\n\")\n",
    "    print(f\"Errror for scale={s/100}: {np.count_nonzero(data!=result)}\")\n",
    "    "
   ]
  },
  {
   "cell_type": "code",
   "execution_count": 24,
   "id": "parental-savage",
   "metadata": {},
   "outputs": [
    {
     "data": {
      "text/plain": [
       "0"
      ]
     },
     "execution_count": 24,
     "metadata": {},
     "output_type": "execute_result"
    }
   ],
   "source": [
    "data, result\n"
   ]
  },
  {
   "cell_type": "code",
   "execution_count": 25,
   "id": "loving-monkey",
   "metadata": {},
   "outputs": [
    {
     "data": {
      "text/plain": [
       "0"
      ]
     },
     "execution_count": 25,
     "metadata": {},
     "output_type": "execute_result"
    }
   ],
   "source": []
  },
  {
   "cell_type": "code",
   "execution_count": null,
   "id": "medium-survey",
   "metadata": {},
   "outputs": [],
   "source": []
  }
 ],
 "metadata": {
  "kernelspec": {
   "display_name": "Python 3",
   "language": "python",
   "name": "python3"
  },
  "language_info": {
   "codemirror_mode": {
    "name": "ipython",
    "version": 3
   },
   "file_extension": ".py",
   "mimetype": "text/x-python",
   "name": "python",
   "nbconvert_exporter": "python",
   "pygments_lexer": "ipython3",
   "version": "3.9.4"
  }
 },
 "nbformat": 4,
 "nbformat_minor": 5
}
